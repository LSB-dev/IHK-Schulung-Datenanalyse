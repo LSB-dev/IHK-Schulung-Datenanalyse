{
  "nbformat": 4,
  "nbformat_minor": 0,
  "metadata": {
    "colab": {
      "provenance": [],
      "include_colab_link": true
    },
    "kernelspec": {
      "name": "python3",
      "display_name": "Python 3"
    },
    "language_info": {
      "name": "python"
    }
  },
  "cells": [
    {
      "cell_type": "markdown",
      "metadata": {
        "id": "view-in-github",
        "colab_type": "text"
      },
      "source": [
        "<a href=\"https://colab.research.google.com/github/LSB-dev/IHK-Schulung-Datenanalyse/blob/main/00_Test_Notebook.ipynb\" target=\"_parent\"><img src=\"https://colab.research.google.com/assets/colab-badge.svg\" alt=\"Open In Colab\"/></a>"
      ]
    },
    {
      "cell_type": "markdown",
      "source": [
        "# Testnotebook"
      ],
      "metadata": {
        "id": "6CWIVARCIeW7"
      }
    },
    {
      "cell_type": "code",
      "source": [
        "var1 = 4\n",
        "var2 = 5\n",
        "var3 = 5\n"
      ],
      "metadata": {
        "id": "Nyy6IyuCITyy"
      },
      "execution_count": 1,
      "outputs": []
    },
    {
      "cell_type": "code",
      "source": [
        "var1"
      ],
      "metadata": {
        "colab": {
          "base_uri": "https://localhost:8080/"
        },
        "id": "Xghp26MAIWoR",
        "outputId": "d4858c69-6b1b-43c2-8ec2-2700fd2c2d82"
      },
      "execution_count": 2,
      "outputs": [
        {
          "output_type": "execute_result",
          "data": {
            "text/plain": [
              "4"
            ]
          },
          "metadata": {},
          "execution_count": 2
        }
      ]
    },
    {
      "cell_type": "markdown",
      "source": [
        "Schleife lernen macht spaß\n",
        "\n",
        "yes"
      ],
      "metadata": {
        "id": "xKHdmNpuLfQS"
      }
    },
    {
      "cell_type": "code",
      "source": [
        "for i in range(10):\n",
        "  var1 += 1\n",
        "print(var1)"
      ],
      "metadata": {
        "colab": {
          "base_uri": "https://localhost:8080/"
        },
        "id": "ax2tUGXrIXEe",
        "outputId": "d6d729c3-42f6-43da-dfda-debe2026ee3c"
      },
      "execution_count": null,
      "outputs": [
        {
          "output_type": "stream",
          "name": "stdout",
          "text": [
            "24\n"
          ]
        }
      ]
    },
    {
      "cell_type": "code",
      "source": [],
      "metadata": {
        "id": "1vDK9aY_Ikmf"
      },
      "execution_count": null,
      "outputs": []
    }
  ]
}